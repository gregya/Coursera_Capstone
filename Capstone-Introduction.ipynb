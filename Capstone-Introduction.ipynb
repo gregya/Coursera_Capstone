{
 "cells": [
  {
   "cell_type": "markdown",
   "metadata": {},
   "source": [
    "# Capstone Project Introduction"
   ]
  },
  {
   "cell_type": "markdown",
   "metadata": {},
   "source": [
    "This project will use the Foursquare API to find historic site data for a given location. Use cases could include: \n",
    "1. Comparing densities of historic sites within a single city for preservation  \n",
    "2. Comparing cities \n",
    "3. Planning travel to various locations."
   ]
  },
  {
   "cell_type": "markdown",
   "metadata": {},
   "source": [
    "## Target Audiences"
   ]
  },
  {
   "cell_type": "markdown",
   "metadata": {},
   "source": [
    "Audiences who would use this application include local city planners and researchers, as well as tourists planning visits to the area."
   ]
  },
  {
   "cell_type": "markdown",
   "metadata": {},
   "source": [
    "## Data and Services Involved"
   ]
  },
  {
   "cell_type": "markdown",
   "metadata": {},
   "source": [
    "For development, the geolocation data will be based on the New York City neightborhood data from the labs. Foursquare API will be called with a parameter that returns only location data containing categories of type **historic site**."
   ]
  },
  {
   "cell_type": "markdown",
   "metadata": {},
   "source": [
    "**Example API endpoint**: venues/search?near=Washington,DC&categoryId=4deefb944765f83613cdba6e&v=20200401&client_id= R044AKOKAKL2CXFRUIKFP5VNY2Q4SQMTWGBVINCBBE0XOC5H&client_secret= KXIA15ASPHEEIJQWG3KGUHXHBIS3XBJGWRYAG3MXC0P0JDQ1"
   ]
  },
  {
   "cell_type": "markdown",
   "metadata": {},
   "source": [
    "Follium will be used to position the user's search term on a map. Historic data from Foursquare will be aadded to the map from that centerpoint."
   ]
  }
 ],
 "metadata": {
  "kernelspec": {
   "display_name": "Python 3",
   "language": "python",
   "name": "python3"
  },
  "language_info": {
   "codemirror_mode": {
    "name": "ipython",
    "version": 3
   },
   "file_extension": ".py",
   "mimetype": "text/x-python",
   "name": "python",
   "nbconvert_exporter": "python",
   "pygments_lexer": "ipython3",
   "version": "3.7.3"
  }
 },
 "nbformat": 4,
 "nbformat_minor": 2
}
