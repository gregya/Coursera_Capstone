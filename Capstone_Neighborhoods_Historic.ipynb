{
  "nbformat": 4,
  "nbformat_minor": 0,
  "metadata": {
    "colab": {
      "name": "Capstone-Neighborhoods-Historic.ipynb",
      "provenance": []
    },
    "kernelspec": {
      "name": "python3",
      "display_name": "Python 3"
    },
    "accelerator": "GPU"
  },
  "cells": [
    {
      "cell_type": "code",
      "metadata": {
        "id": "LDhIgEk7z5Z1",
        "colab_type": "code",
        "colab": {
          "base_uri": "https://localhost:8080/",
          "height": 35
        },
        "outputId": "b28a08c2-5ee5-4f73-d159-de68c5035ce7"
      },
      "source": [
        "import numpy as np # library to handle data in a vectorized manner\n",
        "\n",
        "import pandas as pd # library for data analsysis\n",
        "pd.set_option('display.max_columns', None)\n",
        "pd.set_option('display.max_rows', None)\n",
        "\n",
        "import json # library to handle JSON files\n",
        "from pandas.io.json import json_normalize\n",
        "\n",
        "#!conda install -c conda-forge geopy --yes # uncomment this line if you haven't completed the Foursquare API lab\n",
        "from geopy.geocoders import Nominatim # convert an address into latitude and longitude values\n",
        "\n",
        "import requests # library to handle requests\n",
        "from pandas.io.json import json_normalize # tranform JSON file into a pandas dataframe\n",
        "\n",
        "# Matplotlib and associated plotting modules\n",
        "import matplotlib.cm as cm\n",
        "import matplotlib.colors as colors\n",
        "\n",
        "# import k-means from clustering stage\n",
        "from sklearn.cluster import KMeans\n",
        "\n",
        "#!conda install -c conda-forge folium=0.5.0 --yes # uncomment this line if you haven't completed the Foursquare API lab\n",
        "import folium # map rendering library\n",
        "\n",
        "print('Libraries imported.')"
      ],
      "execution_count": 1,
      "outputs": [
        {
          "output_type": "stream",
          "text": [
            "Libraries imported.\n"
          ],
          "name": "stdout"
        }
      ]
    },
    {
      "cell_type": "code",
      "metadata": {
        "id": "42pa0UFp0Fco",
        "colab_type": "code",
        "colab": {}
      },
      "source": [
        ""
      ],
      "execution_count": 0,
      "outputs": []
    },
    {
      "cell_type": "code",
      "metadata": {
        "id": "7oMZXzUi0GXC",
        "colab_type": "code",
        "colab": {
          "base_uri": "https://localhost:8080/",
          "height": 35
        },
        "outputId": "4bcbbccd-08f7-4e3a-f1d5-cd3e623bcccb"
      },
      "source": [
        "!wget -q -O 'newyork_data.json' https://cocl.us/new_york_dataset\n",
        "print('Data downloaded!')"
      ],
      "execution_count": 2,
      "outputs": [
        {
          "output_type": "stream",
          "text": [
            "Data downloaded!\n"
          ],
          "name": "stdout"
        }
      ]
    },
    {
      "cell_type": "code",
      "metadata": {
        "id": "HrcpmqRR0LSk",
        "colab_type": "code",
        "colab": {}
      },
      "source": [
        "with open('newyork_data.json') as json_data:\n",
        "    newyork_data = json.load(json_data)"
      ],
      "execution_count": 0,
      "outputs": []
    },
    {
      "cell_type": "code",
      "metadata": {
        "id": "n-dRlsxO0XXs",
        "colab_type": "code",
        "colab": {}
      },
      "source": [
        "neighborhoods_data = newyork_data['features']"
      ],
      "execution_count": 0,
      "outputs": []
    },
    {
      "cell_type": "code",
      "metadata": {
        "id": "Q_Zq7E340ctJ",
        "colab_type": "code",
        "colab": {}
      },
      "source": [
        "column_names = ['Borough', 'Neighborhood', 'Latitude', 'Longitude'] \n",
        "\n",
        "neighborhoods = pd.DataFrame(columns=column_names)"
      ],
      "execution_count": 0,
      "outputs": []
    },
    {
      "cell_type": "code",
      "metadata": {
        "id": "2qhLajhS0h1x",
        "colab_type": "code",
        "colab": {}
      },
      "source": [
        "for data in neighborhoods_data:\n",
        "    borough = neighborhood_name = data['properties']['borough'] \n",
        "    neighborhood_name = data['properties']['name']\n",
        "        \n",
        "    neighborhood_latlon = data['geometry']['coordinates']\n",
        "    neighborhood_lat = neighborhood_latlon[1]\n",
        "    neighborhood_lon = neighborhood_latlon[0]\n",
        "    \n",
        "    neighborhoods = neighborhoods.append({'Borough': borough,\n",
        "                                          'Neighborhood': neighborhood_name,\n",
        "                                          'Latitude': neighborhood_lat,\n",
        "                                          'Longitude': neighborhood_lon}, ignore_index=True)"
      ],
      "execution_count": 0,
      "outputs": []
    },
    {
      "cell_type": "code",
      "metadata": {
        "id": "rAm9QDm30pRe",
        "colab_type": "code",
        "colab": {
          "base_uri": "https://localhost:8080/",
          "height": 202
        },
        "outputId": "95e141bc-080f-4d33-e111-f5ded57d6ace"
      },
      "source": [
        "neighborhoods.head()"
      ],
      "execution_count": 11,
      "outputs": [
        {
          "output_type": "execute_result",
          "data": {
            "text/html": [
              "<div>\n",
              "<style scoped>\n",
              "    .dataframe tbody tr th:only-of-type {\n",
              "        vertical-align: middle;\n",
              "    }\n",
              "\n",
              "    .dataframe tbody tr th {\n",
              "        vertical-align: top;\n",
              "    }\n",
              "\n",
              "    .dataframe thead th {\n",
              "        text-align: right;\n",
              "    }\n",
              "</style>\n",
              "<table border=\"1\" class=\"dataframe\">\n",
              "  <thead>\n",
              "    <tr style=\"text-align: right;\">\n",
              "      <th></th>\n",
              "      <th>Borough</th>\n",
              "      <th>Neighborhood</th>\n",
              "      <th>Latitude</th>\n",
              "      <th>Longitude</th>\n",
              "    </tr>\n",
              "  </thead>\n",
              "  <tbody>\n",
              "    <tr>\n",
              "      <th>0</th>\n",
              "      <td>Bronx</td>\n",
              "      <td>Wakefield</td>\n",
              "      <td>40.894705</td>\n",
              "      <td>-73.847201</td>\n",
              "    </tr>\n",
              "    <tr>\n",
              "      <th>1</th>\n",
              "      <td>Bronx</td>\n",
              "      <td>Co-op City</td>\n",
              "      <td>40.874294</td>\n",
              "      <td>-73.829939</td>\n",
              "    </tr>\n",
              "    <tr>\n",
              "      <th>2</th>\n",
              "      <td>Bronx</td>\n",
              "      <td>Eastchester</td>\n",
              "      <td>40.887556</td>\n",
              "      <td>-73.827806</td>\n",
              "    </tr>\n",
              "    <tr>\n",
              "      <th>3</th>\n",
              "      <td>Bronx</td>\n",
              "      <td>Fieldston</td>\n",
              "      <td>40.895437</td>\n",
              "      <td>-73.905643</td>\n",
              "    </tr>\n",
              "    <tr>\n",
              "      <th>4</th>\n",
              "      <td>Bronx</td>\n",
              "      <td>Riverdale</td>\n",
              "      <td>40.890834</td>\n",
              "      <td>-73.912585</td>\n",
              "    </tr>\n",
              "  </tbody>\n",
              "</table>\n",
              "</div>"
            ],
            "text/plain": [
              "  Borough Neighborhood   Latitude  Longitude\n",
              "0   Bronx    Wakefield  40.894705 -73.847201\n",
              "1   Bronx   Co-op City  40.874294 -73.829939\n",
              "2   Bronx  Eastchester  40.887556 -73.827806\n",
              "3   Bronx    Fieldston  40.895437 -73.905643\n",
              "4   Bronx    Riverdale  40.890834 -73.912585"
            ]
          },
          "metadata": {
            "tags": []
          },
          "execution_count": 11
        }
      ]
    },
    {
      "cell_type": "code",
      "metadata": {
        "id": "yzHKMRay1H3Y",
        "colab_type": "code",
        "colab": {
          "base_uri": "https://localhost:8080/",
          "height": 35
        },
        "outputId": "d35ef85f-cf48-489e-e837-2b73ead1d933"
      },
      "source": [
        "address = 'Greenpoint, NY'\n",
        "\n",
        "geolocator = Nominatim(user_agent=\"add_explorer\")\n",
        "location = geolocator.geocode(address)\n",
        "latitude = location.latitude\n",
        "longitude = location.longitude\n",
        "print('The geograpical coordinate of address are {}, {}.'.format(latitude, longitude))"
      ],
      "execution_count": 63,
      "outputs": [
        {
          "output_type": "stream",
          "text": [
            "The geograpical coordinate of address are 40.7237134, -73.9509714.\n"
          ],
          "name": "stdout"
        }
      ]
    },
    {
      "cell_type": "code",
      "metadata": {
        "id": "iZw22vL203yY",
        "colab_type": "code",
        "colab": {
          "base_uri": "https://localhost:8080/",
          "height": 611
        },
        "outputId": "181c4fbf-d211-47cf-ff00-794c4370cede"
      },
      "source": [
        "# individual neighboirhoods to see full details of historic venues\n",
        "user_map = folium.Map(location=[latitude, longitude], zoom_start=14) \n",
        "    \n",
        "user_map"
      ],
      "execution_count": 67,
      "outputs": [
        {
          "output_type": "execute_result",
          "data": {
            "text/html": [
              "<div style=\"width:100%;\"><div style=\"position:relative;width:100%;height:0;padding-bottom:60%;\"><iframe src=\"about:blank\" style=\"position:absolute;width:100%;height:100%;left:0;top:0;border:none !important;\" data-html=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 onload=\"this.contentDocument.open();this.contentDocument.write(atob(this.getAttribute('data-html')));this.contentDocument.close();\" allowfullscreen webkitallowfullscreen mozallowfullscreen></iframe></div></div>"
            ],
            "text/plain": [
              "<folium.folium.Map at 0x7f4e1bed5780>"
            ]
          },
          "metadata": {
            "tags": []
          },
          "execution_count": 67
        }
      ]
    },
    {
      "cell_type": "code",
      "metadata": {
        "id": "8C6ciEZgqdT0",
        "colab_type": "code",
        "colab": {}
      },
      "source": [
        "CLIENT_ID = 'R044AKOKAKL2CXFRUIKFP5VNY2Q4SQMTWGBVINCBBE0XOC5H' # your Foursquare ID\n",
        "CLIENT_SECRET = 'KXIA15ASPHEEIJQWG3KGUHXHBIS3XBJGWRYAG3MXC0P0JDQ1' # your Foursquare Secret\n",
        "VERSION = '20200408' # Foursquare API version\n",
        "\n",
        "radius = 500\n",
        "LIMIT = 200\n",
        "\n",
        "locale = address\n",
        "catID = '4deefb944765f83613cdba6e'"
      ],
      "execution_count": 0,
      "outputs": []
    },
    {
      "cell_type": "code",
      "metadata": {
        "id": "OCJxgRSFq4oU",
        "colab_type": "code",
        "colab": {}
      },
      "source": [
        "\n",
        "url = 'https://api.foursquare.com/v2/venues/search?near={}&categoryId={}&client_id={}&client_secret={}&v={}&radius={}&limit={}'.format(\n",
        "    locale,\n",
        "    catID,\n",
        "    CLIENT_ID, \n",
        "    CLIENT_SECRET, \n",
        "    VERSION, \n",
        "    radius, \n",
        "    LIMIT)\n"
      ],
      "execution_count": 0,
      "outputs": []
    },
    {
      "cell_type": "code",
      "metadata": {
        "id": "0liFQbQvrGu-",
        "colab_type": "code",
        "colab": {
          "base_uri": "https://localhost:8080/",
          "height": 1000
        },
        "outputId": "6beec813-446e-48ec-a8a2-56c86f1f09be"
      },
      "source": [
        "results = requests.get(url).json()\n",
        "results"
      ],
      "execution_count": 70,
      "outputs": [
        {
          "output_type": "execute_result",
          "data": {
            "text/plain": [
              "{'meta': {'code': 200, 'requestId': '5e907acdd03993001b145385'},\n",
              " 'response': {'confident': False,\n",
              "  'geocode': {'feature': {'cc': 'US',\n",
              "    'displayName': 'Greenpoint, NY, United States',\n",
              "    'geometry': {'bounds': {'ne': {'lat': 40.7396392822,\n",
              "       'lng': -73.9293212891},\n",
              "      'sw': {'lat': 40.7139434814, 'lng': -73.9626846313}},\n",
              "     'center': {'lat': 40.72371, 'lng': -73.95097}},\n",
              "    'highlightedName': '<b>Greenpoint</b>, <b>NY</b>, United States',\n",
              "    'id': 'geonameid:5119383',\n",
              "    'longId': '72057594043047319',\n",
              "    'matchedName': 'Greenpoint, NY, United States',\n",
              "    'name': 'Greenpoint',\n",
              "    'woeType': 22},\n",
              "   'parents': [],\n",
              "   'what': '',\n",
              "   'where': 'greenpoint ny'},\n",
              "  'venues': [{'categories': [{'icon': {'prefix': 'https://ss3.4sqi.net/img/categories_v2/parks_outdoors/park_',\n",
              "       'suffix': '.png'},\n",
              "      'id': '4bf58dd8d48988d163941735',\n",
              "      'name': 'Park',\n",
              "      'pluralName': 'Parks',\n",
              "      'primary': True,\n",
              "      'shortName': 'Park'}],\n",
              "    'hasPerk': False,\n",
              "    'id': '4a907962f964a520101820e3',\n",
              "    'location': {'address': 'Nassau Ave',\n",
              "     'cc': 'US',\n",
              "     'city': 'Brooklyn',\n",
              "     'country': 'United States',\n",
              "     'crossStreet': 'at Guernsey St.',\n",
              "     'formattedAddress': ['Nassau Ave (at Guernsey St.)',\n",
              "      'Brooklyn, NY 11222',\n",
              "      'United States'],\n",
              "     'labeledLatLngs': [{'label': 'display',\n",
              "       'lat': 40.72311786229657,\n",
              "       'lng': -73.95239741882499}],\n",
              "     'lat': 40.72311786229657,\n",
              "     'lng': -73.95239741882499,\n",
              "     'postalCode': '11222',\n",
              "     'state': 'NY'},\n",
              "    'name': 'Father Jerzy Popiełuszko Square',\n",
              "    'referralId': 'v-1586527008'},\n",
              "   {'categories': [{'icon': {'prefix': 'https://ss3.4sqi.net/img/categories_v2/arts_entertainment/historicsite_',\n",
              "       'suffix': '.png'},\n",
              "      'id': '4deefb944765f83613cdba6e',\n",
              "      'name': 'Historic Site',\n",
              "      'pluralName': 'Historic Sites',\n",
              "      'primary': True,\n",
              "      'shortName': 'Historic Site'}],\n",
              "    'hasPerk': False,\n",
              "    'id': '4f9758a5e4b010757793d60b',\n",
              "    'location': {'address': '181 Norman Ave',\n",
              "     'cc': 'US',\n",
              "     'city': 'Brooklyn',\n",
              "     'country': 'United States',\n",
              "     'formattedAddress': ['181 Norman Ave',\n",
              "      'Brooklyn, NY 11222',\n",
              "      'United States'],\n",
              "     'labeledLatLngs': [{'label': 'display',\n",
              "       'lat': 40.72710672582756,\n",
              "       'lng': -73.94703945376244},\n",
              "      {'label': '?', 'lat': 40.727098, 'lng': -73.946994}],\n",
              "     'lat': 40.72710672582756,\n",
              "     'lng': -73.94703945376244,\n",
              "     'postalCode': '11222',\n",
              "     'state': 'NY'},\n",
              "    'name': 'Bates Motel',\n",
              "    'referralId': 'v-1586527008'}]}}"
            ]
          },
          "metadata": {
            "tags": []
          },
          "execution_count": 70
        }
      ]
    },
    {
      "cell_type": "code",
      "metadata": {
        "id": "uCxGJ41t4Ea9",
        "colab_type": "code",
        "colab": {}
      },
      "source": [
        "rep2 = results['response']['venues']\n",
        "rep2_cols = ['Name', 'Latitude', 'Longitude'] \n",
        "rep_prepped = pd.DataFrame(columns=rep2_cols)\n",
        "\n",
        "for data in rep2:\n",
        "    site_name = site = data['name'] \n",
        "    site_lat = lat = data['location']['lat']\n",
        "    site_lng = lng = data['location']['lng']\n",
        "    rep_prepped = rep_prepped.append({'Name': site_name,\n",
        "                                        'Latitude': site_lat,\n",
        "                                        'Longitude': site_lng,\n",
        "                                          }, ignore_index=True)"
      ],
      "execution_count": 0,
      "outputs": []
    },
    {
      "cell_type": "code",
      "metadata": {
        "id": "7HnxmZ77KqpB",
        "colab_type": "code",
        "colab": {
          "base_uri": "https://localhost:8080/",
          "height": 110
        },
        "outputId": "59357823-d909-47b7-edf7-7c7039cab0c5"
      },
      "source": [
        "rep_prepped.head()"
      ],
      "execution_count": 72,
      "outputs": [
        {
          "output_type": "execute_result",
          "data": {
            "text/html": [
              "<div>\n",
              "<style scoped>\n",
              "    .dataframe tbody tr th:only-of-type {\n",
              "        vertical-align: middle;\n",
              "    }\n",
              "\n",
              "    .dataframe tbody tr th {\n",
              "        vertical-align: top;\n",
              "    }\n",
              "\n",
              "    .dataframe thead th {\n",
              "        text-align: right;\n",
              "    }\n",
              "</style>\n",
              "<table border=\"1\" class=\"dataframe\">\n",
              "  <thead>\n",
              "    <tr style=\"text-align: right;\">\n",
              "      <th></th>\n",
              "      <th>Name</th>\n",
              "      <th>Latitude</th>\n",
              "      <th>Longitude</th>\n",
              "    </tr>\n",
              "  </thead>\n",
              "  <tbody>\n",
              "    <tr>\n",
              "      <th>0</th>\n",
              "      <td>Father Jerzy Popiełuszko Square</td>\n",
              "      <td>40.723118</td>\n",
              "      <td>-73.952397</td>\n",
              "    </tr>\n",
              "    <tr>\n",
              "      <th>1</th>\n",
              "      <td>Bates Motel</td>\n",
              "      <td>40.727107</td>\n",
              "      <td>-73.947039</td>\n",
              "    </tr>\n",
              "  </tbody>\n",
              "</table>\n",
              "</div>"
            ],
            "text/plain": [
              "                              Name   Latitude  Longitude\n",
              "0  Father Jerzy Popiełuszko Square  40.723118 -73.952397\n",
              "1                      Bates Motel  40.727107 -73.947039"
            ]
          },
          "metadata": {
            "tags": []
          },
          "execution_count": 72
        }
      ]
    },
    {
      "cell_type": "code",
      "metadata": {
        "id": "2-Z-Y9geAQd2",
        "colab_type": "code",
        "colab": {
          "base_uri": "https://localhost:8080/",
          "height": 611
        },
        "outputId": "0aaada50-ea06-4f99-d788-de329d530726"
      },
      "source": [
        "\n",
        "# add markers to map\n",
        "for name, lat, lng in zip(rep_prepped['Name'], rep_prepped['Latitude'], rep_prepped['Longitude']):\n",
        "    label = '{}'.format(name)\n",
        "    label = folium.Popup(label, parse_html=True)\n",
        "    folium.CircleMarker(\n",
        "        [lat, lng],\n",
        "        radius=5,\n",
        "        popup=label,\n",
        "        color='blue',\n",
        "        fill=True,\n",
        "        fill_color='#3186cc',\n",
        "        fill_opacity=0.7,\n",
        "        parse_html=False).add_to(user_map) \n",
        "\n",
        "user_map"
      ],
      "execution_count": 78,
      "outputs": [
        {
          "output_type": "execute_result",
          "data": {
            "text/html": [
              "<div style=\"width:100%;\"><div style=\"position:relative;width:100%;height:0;padding-bottom:60%;\"><iframe src=\"about:blank\" style=\"position:absolute;width:100%;height:100%;left:0;top:0;border:none !important;\" data-html=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 onload=\"this.contentDocument.open();this.contentDocument.write(atob(this.getAttribute('data-html')));this.contentDocument.close();\" allowfullscreen webkitallowfullscreen mozallowfullscreen></iframe></div></div>"
            ],
            "text/plain": [
              "<folium.folium.Map at 0x7f4e1bed5780>"
            ]
          },
          "metadata": {
            "tags": []
          },
          "execution_count": 78
        }
      ]
    }
  ]
}